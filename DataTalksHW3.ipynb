{
  "nbformat": 4,
  "nbformat_minor": 0,
  "metadata": {
    "colab": {
      "provenance": [],
      "authorship_tag": "ABX9TyN0sjUEceOkas2NIq4oLJ51",
      "include_colab_link": true
    },
    "kernelspec": {
      "name": "python3",
      "display_name": "Python 3"
    },
    "language_info": {
      "name": "python"
    }
  },
  "cells": [
    {
      "cell_type": "markdown",
      "metadata": {
        "id": "view-in-github",
        "colab_type": "text"
      },
      "source": [
        "<a href=\"https://colab.research.google.com/github/kaysriram/MLZoomCamp2025/blob/main/DataTalksHW3.ipynb\" target=\"_parent\"><img src=\"https://colab.research.google.com/assets/colab-badge.svg\" alt=\"Open In Colab\"/></a>"
      ]
    },
    {
      "cell_type": "code",
      "execution_count": 2,
      "metadata": {
        "id": "is08GAsoAbPy"
      },
      "outputs": [],
      "source": [
        "import pandas as pd\n",
        "import numpy as np\n",
        "import matplotlib.pyplot as plt\n",
        "import seaborn as sns"
      ]
    },
    {
      "cell_type": "markdown",
      "source": [
        "Importing Dataset"
      ],
      "metadata": {
        "id": "BerKscbhB3g4"
      }
    },
    {
      "cell_type": "code",
      "source": [
        "!wget https://raw.githubusercontent.com/alexeygrigorev/datasets/master/course_lead_scoring.csv"
      ],
      "metadata": {
        "colab": {
          "base_uri": "https://localhost:8080/"
        },
        "id": "7FtC0vl0B5Z4",
        "outputId": "170a6a27-8d0e-46f1-feaa-6b9b50cef899"
      },
      "execution_count": 3,
      "outputs": [
        {
          "output_type": "stream",
          "name": "stdout",
          "text": [
            "--2025-10-16 07:59:45--  https://raw.githubusercontent.com/alexeygrigorev/datasets/master/course_lead_scoring.csv\n",
            "Resolving raw.githubusercontent.com (raw.githubusercontent.com)... 185.199.109.133, 185.199.111.133, 185.199.108.133, ...\n",
            "Connecting to raw.githubusercontent.com (raw.githubusercontent.com)|185.199.109.133|:443... connected.\n",
            "HTTP request sent, awaiting response... 200 OK\n",
            "Length: 80876 (79K) [text/plain]\n",
            "Saving to: ‘course_lead_scoring.csv’\n",
            "\n",
            "\rcourse_lead_scoring   0%[                    ]       0  --.-KB/s               \rcourse_lead_scoring 100%[===================>]  78.98K  --.-KB/s    in 0.02s   \n",
            "\n",
            "2025-10-16 07:59:45 (4.56 MB/s) - ‘course_lead_scoring.csv’ saved [80876/80876]\n",
            "\n"
          ]
        }
      ]
    },
    {
      "cell_type": "code",
      "source": [
        "df=pd.read_csv('course_lead_scoring.csv')\n",
        "df.head()"
      ],
      "metadata": {
        "colab": {
          "base_uri": "https://localhost:8080/",
          "height": 226
        },
        "id": "Rr_NptcRB8uv",
        "outputId": "1a02a5f0-1300-46e1-a5dd-30c61beab8b4"
      },
      "execution_count": 4,
      "outputs": [
        {
          "output_type": "execute_result",
          "data": {
            "text/plain": [
              "    lead_source    industry  number_of_courses_viewed  annual_income  \\\n",
              "0      paid_ads         NaN                         1        79450.0   \n",
              "1  social_media      retail                         1        46992.0   \n",
              "2        events  healthcare                         5        78796.0   \n",
              "3      paid_ads      retail                         2        83843.0   \n",
              "4      referral   education                         3        85012.0   \n",
              "\n",
              "  employment_status       location  interaction_count  lead_score  converted  \n",
              "0        unemployed  south_america                  4        0.94          1  \n",
              "1          employed  south_america                  1        0.80          0  \n",
              "2        unemployed      australia                  3        0.69          1  \n",
              "3               NaN      australia                  1        0.87          0  \n",
              "4     self_employed         europe                  3        0.62          1  "
            ],
            "text/html": [
              "\n",
              "  <div id=\"df-d2ef2f05-795b-444d-aeab-afa046436c0b\" class=\"colab-df-container\">\n",
              "    <div>\n",
              "<style scoped>\n",
              "    .dataframe tbody tr th:only-of-type {\n",
              "        vertical-align: middle;\n",
              "    }\n",
              "\n",
              "    .dataframe tbody tr th {\n",
              "        vertical-align: top;\n",
              "    }\n",
              "\n",
              "    .dataframe thead th {\n",
              "        text-align: right;\n",
              "    }\n",
              "</style>\n",
              "<table border=\"1\" class=\"dataframe\">\n",
              "  <thead>\n",
              "    <tr style=\"text-align: right;\">\n",
              "      <th></th>\n",
              "      <th>lead_source</th>\n",
              "      <th>industry</th>\n",
              "      <th>number_of_courses_viewed</th>\n",
              "      <th>annual_income</th>\n",
              "      <th>employment_status</th>\n",
              "      <th>location</th>\n",
              "      <th>interaction_count</th>\n",
              "      <th>lead_score</th>\n",
              "      <th>converted</th>\n",
              "    </tr>\n",
              "  </thead>\n",
              "  <tbody>\n",
              "    <tr>\n",
              "      <th>0</th>\n",
              "      <td>paid_ads</td>\n",
              "      <td>NaN</td>\n",
              "      <td>1</td>\n",
              "      <td>79450.0</td>\n",
              "      <td>unemployed</td>\n",
              "      <td>south_america</td>\n",
              "      <td>4</td>\n",
              "      <td>0.94</td>\n",
              "      <td>1</td>\n",
              "    </tr>\n",
              "    <tr>\n",
              "      <th>1</th>\n",
              "      <td>social_media</td>\n",
              "      <td>retail</td>\n",
              "      <td>1</td>\n",
              "      <td>46992.0</td>\n",
              "      <td>employed</td>\n",
              "      <td>south_america</td>\n",
              "      <td>1</td>\n",
              "      <td>0.80</td>\n",
              "      <td>0</td>\n",
              "    </tr>\n",
              "    <tr>\n",
              "      <th>2</th>\n",
              "      <td>events</td>\n",
              "      <td>healthcare</td>\n",
              "      <td>5</td>\n",
              "      <td>78796.0</td>\n",
              "      <td>unemployed</td>\n",
              "      <td>australia</td>\n",
              "      <td>3</td>\n",
              "      <td>0.69</td>\n",
              "      <td>1</td>\n",
              "    </tr>\n",
              "    <tr>\n",
              "      <th>3</th>\n",
              "      <td>paid_ads</td>\n",
              "      <td>retail</td>\n",
              "      <td>2</td>\n",
              "      <td>83843.0</td>\n",
              "      <td>NaN</td>\n",
              "      <td>australia</td>\n",
              "      <td>1</td>\n",
              "      <td>0.87</td>\n",
              "      <td>0</td>\n",
              "    </tr>\n",
              "    <tr>\n",
              "      <th>4</th>\n",
              "      <td>referral</td>\n",
              "      <td>education</td>\n",
              "      <td>3</td>\n",
              "      <td>85012.0</td>\n",
              "      <td>self_employed</td>\n",
              "      <td>europe</td>\n",
              "      <td>3</td>\n",
              "      <td>0.62</td>\n",
              "      <td>1</td>\n",
              "    </tr>\n",
              "  </tbody>\n",
              "</table>\n",
              "</div>\n",
              "    <div class=\"colab-df-buttons\">\n",
              "\n",
              "  <div class=\"colab-df-container\">\n",
              "    <button class=\"colab-df-convert\" onclick=\"convertToInteractive('df-d2ef2f05-795b-444d-aeab-afa046436c0b')\"\n",
              "            title=\"Convert this dataframe to an interactive table.\"\n",
              "            style=\"display:none;\">\n",
              "\n",
              "  <svg xmlns=\"http://www.w3.org/2000/svg\" height=\"24px\" viewBox=\"0 -960 960 960\">\n",
              "    <path d=\"M120-120v-720h720v720H120Zm60-500h600v-160H180v160Zm220 220h160v-160H400v160Zm0 220h160v-160H400v160ZM180-400h160v-160H180v160Zm440 0h160v-160H620v160ZM180-180h160v-160H180v160Zm440 0h160v-160H620v160Z\"/>\n",
              "  </svg>\n",
              "    </button>\n",
              "\n",
              "  <style>\n",
              "    .colab-df-container {\n",
              "      display:flex;\n",
              "      gap: 12px;\n",
              "    }\n",
              "\n",
              "    .colab-df-convert {\n",
              "      background-color: #E8F0FE;\n",
              "      border: none;\n",
              "      border-radius: 50%;\n",
              "      cursor: pointer;\n",
              "      display: none;\n",
              "      fill: #1967D2;\n",
              "      height: 32px;\n",
              "      padding: 0 0 0 0;\n",
              "      width: 32px;\n",
              "    }\n",
              "\n",
              "    .colab-df-convert:hover {\n",
              "      background-color: #E2EBFA;\n",
              "      box-shadow: 0px 1px 2px rgba(60, 64, 67, 0.3), 0px 1px 3px 1px rgba(60, 64, 67, 0.15);\n",
              "      fill: #174EA6;\n",
              "    }\n",
              "\n",
              "    .colab-df-buttons div {\n",
              "      margin-bottom: 4px;\n",
              "    }\n",
              "\n",
              "    [theme=dark] .colab-df-convert {\n",
              "      background-color: #3B4455;\n",
              "      fill: #D2E3FC;\n",
              "    }\n",
              "\n",
              "    [theme=dark] .colab-df-convert:hover {\n",
              "      background-color: #434B5C;\n",
              "      box-shadow: 0px 1px 3px 1px rgba(0, 0, 0, 0.15);\n",
              "      filter: drop-shadow(0px 1px 2px rgba(0, 0, 0, 0.3));\n",
              "      fill: #FFFFFF;\n",
              "    }\n",
              "  </style>\n",
              "\n",
              "    <script>\n",
              "      const buttonEl =\n",
              "        document.querySelector('#df-d2ef2f05-795b-444d-aeab-afa046436c0b button.colab-df-convert');\n",
              "      buttonEl.style.display =\n",
              "        google.colab.kernel.accessAllowed ? 'block' : 'none';\n",
              "\n",
              "      async function convertToInteractive(key) {\n",
              "        const element = document.querySelector('#df-d2ef2f05-795b-444d-aeab-afa046436c0b');\n",
              "        const dataTable =\n",
              "          await google.colab.kernel.invokeFunction('convertToInteractive',\n",
              "                                                    [key], {});\n",
              "        if (!dataTable) return;\n",
              "\n",
              "        const docLinkHtml = 'Like what you see? Visit the ' +\n",
              "          '<a target=\"_blank\" href=https://colab.research.google.com/notebooks/data_table.ipynb>data table notebook</a>'\n",
              "          + ' to learn more about interactive tables.';\n",
              "        element.innerHTML = '';\n",
              "        dataTable['output_type'] = 'display_data';\n",
              "        await google.colab.output.renderOutput(dataTable, element);\n",
              "        const docLink = document.createElement('div');\n",
              "        docLink.innerHTML = docLinkHtml;\n",
              "        element.appendChild(docLink);\n",
              "      }\n",
              "    </script>\n",
              "  </div>\n",
              "\n",
              "\n",
              "    <div id=\"df-de2b1a3d-c74f-46c9-988c-6c2874ffe623\">\n",
              "      <button class=\"colab-df-quickchart\" onclick=\"quickchart('df-de2b1a3d-c74f-46c9-988c-6c2874ffe623')\"\n",
              "                title=\"Suggest charts\"\n",
              "                style=\"display:none;\">\n",
              "\n",
              "<svg xmlns=\"http://www.w3.org/2000/svg\" height=\"24px\"viewBox=\"0 0 24 24\"\n",
              "     width=\"24px\">\n",
              "    <g>\n",
              "        <path d=\"M19 3H5c-1.1 0-2 .9-2 2v14c0 1.1.9 2 2 2h14c1.1 0 2-.9 2-2V5c0-1.1-.9-2-2-2zM9 17H7v-7h2v7zm4 0h-2V7h2v10zm4 0h-2v-4h2v4z\"/>\n",
              "    </g>\n",
              "</svg>\n",
              "      </button>\n",
              "\n",
              "<style>\n",
              "  .colab-df-quickchart {\n",
              "      --bg-color: #E8F0FE;\n",
              "      --fill-color: #1967D2;\n",
              "      --hover-bg-color: #E2EBFA;\n",
              "      --hover-fill-color: #174EA6;\n",
              "      --disabled-fill-color: #AAA;\n",
              "      --disabled-bg-color: #DDD;\n",
              "  }\n",
              "\n",
              "  [theme=dark] .colab-df-quickchart {\n",
              "      --bg-color: #3B4455;\n",
              "      --fill-color: #D2E3FC;\n",
              "      --hover-bg-color: #434B5C;\n",
              "      --hover-fill-color: #FFFFFF;\n",
              "      --disabled-bg-color: #3B4455;\n",
              "      --disabled-fill-color: #666;\n",
              "  }\n",
              "\n",
              "  .colab-df-quickchart {\n",
              "    background-color: var(--bg-color);\n",
              "    border: none;\n",
              "    border-radius: 50%;\n",
              "    cursor: pointer;\n",
              "    display: none;\n",
              "    fill: var(--fill-color);\n",
              "    height: 32px;\n",
              "    padding: 0;\n",
              "    width: 32px;\n",
              "  }\n",
              "\n",
              "  .colab-df-quickchart:hover {\n",
              "    background-color: var(--hover-bg-color);\n",
              "    box-shadow: 0 1px 2px rgba(60, 64, 67, 0.3), 0 1px 3px 1px rgba(60, 64, 67, 0.15);\n",
              "    fill: var(--button-hover-fill-color);\n",
              "  }\n",
              "\n",
              "  .colab-df-quickchart-complete:disabled,\n",
              "  .colab-df-quickchart-complete:disabled:hover {\n",
              "    background-color: var(--disabled-bg-color);\n",
              "    fill: var(--disabled-fill-color);\n",
              "    box-shadow: none;\n",
              "  }\n",
              "\n",
              "  .colab-df-spinner {\n",
              "    border: 2px solid var(--fill-color);\n",
              "    border-color: transparent;\n",
              "    border-bottom-color: var(--fill-color);\n",
              "    animation:\n",
              "      spin 1s steps(1) infinite;\n",
              "  }\n",
              "\n",
              "  @keyframes spin {\n",
              "    0% {\n",
              "      border-color: transparent;\n",
              "      border-bottom-color: var(--fill-color);\n",
              "      border-left-color: var(--fill-color);\n",
              "    }\n",
              "    20% {\n",
              "      border-color: transparent;\n",
              "      border-left-color: var(--fill-color);\n",
              "      border-top-color: var(--fill-color);\n",
              "    }\n",
              "    30% {\n",
              "      border-color: transparent;\n",
              "      border-left-color: var(--fill-color);\n",
              "      border-top-color: var(--fill-color);\n",
              "      border-right-color: var(--fill-color);\n",
              "    }\n",
              "    40% {\n",
              "      border-color: transparent;\n",
              "      border-right-color: var(--fill-color);\n",
              "      border-top-color: var(--fill-color);\n",
              "    }\n",
              "    60% {\n",
              "      border-color: transparent;\n",
              "      border-right-color: var(--fill-color);\n",
              "    }\n",
              "    80% {\n",
              "      border-color: transparent;\n",
              "      border-right-color: var(--fill-color);\n",
              "      border-bottom-color: var(--fill-color);\n",
              "    }\n",
              "    90% {\n",
              "      border-color: transparent;\n",
              "      border-bottom-color: var(--fill-color);\n",
              "    }\n",
              "  }\n",
              "</style>\n",
              "\n",
              "      <script>\n",
              "        async function quickchart(key) {\n",
              "          const quickchartButtonEl =\n",
              "            document.querySelector('#' + key + ' button');\n",
              "          quickchartButtonEl.disabled = true;  // To prevent multiple clicks.\n",
              "          quickchartButtonEl.classList.add('colab-df-spinner');\n",
              "          try {\n",
              "            const charts = await google.colab.kernel.invokeFunction(\n",
              "                'suggestCharts', [key], {});\n",
              "          } catch (error) {\n",
              "            console.error('Error during call to suggestCharts:', error);\n",
              "          }\n",
              "          quickchartButtonEl.classList.remove('colab-df-spinner');\n",
              "          quickchartButtonEl.classList.add('colab-df-quickchart-complete');\n",
              "        }\n",
              "        (() => {\n",
              "          let quickchartButtonEl =\n",
              "            document.querySelector('#df-de2b1a3d-c74f-46c9-988c-6c2874ffe623 button');\n",
              "          quickchartButtonEl.style.display =\n",
              "            google.colab.kernel.accessAllowed ? 'block' : 'none';\n",
              "        })();\n",
              "      </script>\n",
              "    </div>\n",
              "\n",
              "    </div>\n",
              "  </div>\n"
            ],
            "application/vnd.google.colaboratory.intrinsic+json": {
              "type": "dataframe",
              "variable_name": "df",
              "summary": "{\n  \"name\": \"df\",\n  \"rows\": 1462,\n  \"fields\": [\n    {\n      \"column\": \"lead_source\",\n      \"properties\": {\n        \"dtype\": \"category\",\n        \"num_unique_values\": 5,\n        \"samples\": [\n          \"social_media\",\n          \"organic_search\",\n          \"events\"\n        ],\n        \"semantic_type\": \"\",\n        \"description\": \"\"\n      }\n    },\n    {\n      \"column\": \"industry\",\n      \"properties\": {\n        \"dtype\": \"category\",\n        \"num_unique_values\": 7,\n        \"samples\": [\n          \"retail\",\n          \"healthcare\",\n          \"other\"\n        ],\n        \"semantic_type\": \"\",\n        \"description\": \"\"\n      }\n    },\n    {\n      \"column\": \"number_of_courses_viewed\",\n      \"properties\": {\n        \"dtype\": \"number\",\n        \"std\": 1,\n        \"min\": 0,\n        \"max\": 9,\n        \"num_unique_values\": 10,\n        \"samples\": [\n          7,\n          5,\n          4\n        ],\n        \"semantic_type\": \"\",\n        \"description\": \"\"\n      }\n    },\n    {\n      \"column\": \"annual_income\",\n      \"properties\": {\n        \"dtype\": \"number\",\n        \"std\": 15070.140389099402,\n        \"min\": 13929.0,\n        \"max\": 109899.0,\n        \"num_unique_values\": 1267,\n        \"samples\": [\n          35832.0,\n          99435.0,\n          53502.0\n        ],\n        \"semantic_type\": \"\",\n        \"description\": \"\"\n      }\n    },\n    {\n      \"column\": \"employment_status\",\n      \"properties\": {\n        \"dtype\": \"category\",\n        \"num_unique_values\": 4,\n        \"samples\": [\n          \"employed\",\n          \"student\",\n          \"unemployed\"\n        ],\n        \"semantic_type\": \"\",\n        \"description\": \"\"\n      }\n    },\n    {\n      \"column\": \"location\",\n      \"properties\": {\n        \"dtype\": \"category\",\n        \"num_unique_values\": 7,\n        \"samples\": [\n          \"south_america\",\n          \"australia\",\n          \"north_america\"\n        ],\n        \"semantic_type\": \"\",\n        \"description\": \"\"\n      }\n    },\n    {\n      \"column\": \"interaction_count\",\n      \"properties\": {\n        \"dtype\": \"number\",\n        \"std\": 1,\n        \"min\": 0,\n        \"max\": 11,\n        \"num_unique_values\": 12,\n        \"samples\": [\n          10,\n          8,\n          4\n        ],\n        \"semantic_type\": \"\",\n        \"description\": \"\"\n      }\n    },\n    {\n      \"column\": \"lead_score\",\n      \"properties\": {\n        \"dtype\": \"number\",\n        \"std\": 0.28846540429698403,\n        \"min\": 0.0,\n        \"max\": 1.0,\n        \"num_unique_values\": 101,\n        \"samples\": [\n          0.09,\n          0.72,\n          0.58\n        ],\n        \"semantic_type\": \"\",\n        \"description\": \"\"\n      }\n    },\n    {\n      \"column\": \"converted\",\n      \"properties\": {\n        \"dtype\": \"number\",\n        \"std\": 0,\n        \"min\": 0,\n        \"max\": 1,\n        \"num_unique_values\": 2,\n        \"samples\": [\n          0,\n          1\n        ],\n        \"semantic_type\": \"\",\n        \"description\": \"\"\n      }\n    }\n  ]\n}"
            }
          },
          "metadata": {},
          "execution_count": 4
        }
      ]
    },
    {
      "cell_type": "code",
      "source": [
        "df.isnull().sum()"
      ],
      "metadata": {
        "colab": {
          "base_uri": "https://localhost:8080/",
          "height": 366
        },
        "id": "9w8e6M8yCKvQ",
        "outputId": "2c78fcf6-bec6-42af-db6c-7f7c065bac14"
      },
      "execution_count": 5,
      "outputs": [
        {
          "output_type": "execute_result",
          "data": {
            "text/plain": [
              "lead_source                 128\n",
              "industry                    134\n",
              "number_of_courses_viewed      0\n",
              "annual_income               181\n",
              "employment_status           100\n",
              "location                     63\n",
              "interaction_count             0\n",
              "lead_score                    0\n",
              "converted                     0\n",
              "dtype: int64"
            ],
            "text/html": [
              "<div>\n",
              "<style scoped>\n",
              "    .dataframe tbody tr th:only-of-type {\n",
              "        vertical-align: middle;\n",
              "    }\n",
              "\n",
              "    .dataframe tbody tr th {\n",
              "        vertical-align: top;\n",
              "    }\n",
              "\n",
              "    .dataframe thead th {\n",
              "        text-align: right;\n",
              "    }\n",
              "</style>\n",
              "<table border=\"1\" class=\"dataframe\">\n",
              "  <thead>\n",
              "    <tr style=\"text-align: right;\">\n",
              "      <th></th>\n",
              "      <th>0</th>\n",
              "    </tr>\n",
              "  </thead>\n",
              "  <tbody>\n",
              "    <tr>\n",
              "      <th>lead_source</th>\n",
              "      <td>128</td>\n",
              "    </tr>\n",
              "    <tr>\n",
              "      <th>industry</th>\n",
              "      <td>134</td>\n",
              "    </tr>\n",
              "    <tr>\n",
              "      <th>number_of_courses_viewed</th>\n",
              "      <td>0</td>\n",
              "    </tr>\n",
              "    <tr>\n",
              "      <th>annual_income</th>\n",
              "      <td>181</td>\n",
              "    </tr>\n",
              "    <tr>\n",
              "      <th>employment_status</th>\n",
              "      <td>100</td>\n",
              "    </tr>\n",
              "    <tr>\n",
              "      <th>location</th>\n",
              "      <td>63</td>\n",
              "    </tr>\n",
              "    <tr>\n",
              "      <th>interaction_count</th>\n",
              "      <td>0</td>\n",
              "    </tr>\n",
              "    <tr>\n",
              "      <th>lead_score</th>\n",
              "      <td>0</td>\n",
              "    </tr>\n",
              "    <tr>\n",
              "      <th>converted</th>\n",
              "      <td>0</td>\n",
              "    </tr>\n",
              "  </tbody>\n",
              "</table>\n",
              "</div><br><label><b>dtype:</b> int64</label>"
            ]
          },
          "metadata": {},
          "execution_count": 5
        }
      ]
    },
    {
      "cell_type": "code",
      "source": [
        "df[df.select_dtypes(include='object').columns] = df[df.select_dtypes(include='object').columns].fillna('NA')\n",
        "df[df.select_dtypes(exclude='object').columns] = df[df.select_dtypes(exclude='object').columns].fillna(0.0)"
      ],
      "metadata": {
        "id": "iHiG19mRCTmP"
      },
      "execution_count": 16,
      "outputs": []
    },
    {
      "cell_type": "code",
      "source": [
        "df.isnull().sum()"
      ],
      "metadata": {
        "colab": {
          "base_uri": "https://localhost:8080/",
          "height": 366
        },
        "id": "PfIESlHQDsZg",
        "outputId": "996df7fa-c6e1-410d-8863-f1fa324b7e7b"
      },
      "execution_count": 17,
      "outputs": [
        {
          "output_type": "execute_result",
          "data": {
            "text/plain": [
              "lead_source                 0\n",
              "industry                    0\n",
              "number_of_courses_viewed    0\n",
              "annual_income               0\n",
              "employment_status           0\n",
              "location                    0\n",
              "interaction_count           0\n",
              "lead_score                  0\n",
              "converted                   0\n",
              "dtype: int64"
            ],
            "text/html": [
              "<div>\n",
              "<style scoped>\n",
              "    .dataframe tbody tr th:only-of-type {\n",
              "        vertical-align: middle;\n",
              "    }\n",
              "\n",
              "    .dataframe tbody tr th {\n",
              "        vertical-align: top;\n",
              "    }\n",
              "\n",
              "    .dataframe thead th {\n",
              "        text-align: right;\n",
              "    }\n",
              "</style>\n",
              "<table border=\"1\" class=\"dataframe\">\n",
              "  <thead>\n",
              "    <tr style=\"text-align: right;\">\n",
              "      <th></th>\n",
              "      <th>0</th>\n",
              "    </tr>\n",
              "  </thead>\n",
              "  <tbody>\n",
              "    <tr>\n",
              "      <th>lead_source</th>\n",
              "      <td>0</td>\n",
              "    </tr>\n",
              "    <tr>\n",
              "      <th>industry</th>\n",
              "      <td>0</td>\n",
              "    </tr>\n",
              "    <tr>\n",
              "      <th>number_of_courses_viewed</th>\n",
              "      <td>0</td>\n",
              "    </tr>\n",
              "    <tr>\n",
              "      <th>annual_income</th>\n",
              "      <td>0</td>\n",
              "    </tr>\n",
              "    <tr>\n",
              "      <th>employment_status</th>\n",
              "      <td>0</td>\n",
              "    </tr>\n",
              "    <tr>\n",
              "      <th>location</th>\n",
              "      <td>0</td>\n",
              "    </tr>\n",
              "    <tr>\n",
              "      <th>interaction_count</th>\n",
              "      <td>0</td>\n",
              "    </tr>\n",
              "    <tr>\n",
              "      <th>lead_score</th>\n",
              "      <td>0</td>\n",
              "    </tr>\n",
              "    <tr>\n",
              "      <th>converted</th>\n",
              "      <td>0</td>\n",
              "    </tr>\n",
              "  </tbody>\n",
              "</table>\n",
              "</div><br><label><b>dtype:</b> int64</label>"
            ]
          },
          "metadata": {},
          "execution_count": 17
        }
      ]
    },
    {
      "cell_type": "markdown",
      "source": [
        "Q1"
      ],
      "metadata": {
        "id": "rGiULQYJELP4"
      }
    },
    {
      "cell_type": "code",
      "source": [
        "df['industry'].value_counts().idxmax()   #gives the index of maximum value(mode)"
      ],
      "metadata": {
        "colab": {
          "base_uri": "https://localhost:8080/",
          "height": 35
        },
        "id": "iqdRESe4EJaw",
        "outputId": "927526cd-c69c-45e9-e407-f3efe85b834e"
      },
      "execution_count": 19,
      "outputs": [
        {
          "output_type": "execute_result",
          "data": {
            "text/plain": [
              "'retail'"
            ],
            "application/vnd.google.colaboratory.intrinsic+json": {
              "type": "string"
            }
          },
          "metadata": {},
          "execution_count": 19
        }
      ]
    },
    {
      "cell_type": "markdown",
      "source": [
        "Q2"
      ],
      "metadata": {
        "id": "McNMzRQTFBwQ"
      }
    },
    {
      "cell_type": "code",
      "source": [
        "df_num=df[df.select_dtypes(exclude='object').columns]\n",
        "df_num.corr()"
      ],
      "metadata": {
        "colab": {
          "base_uri": "https://localhost:8080/",
          "height": 206
        },
        "id": "VJdbIn4AFFnn",
        "outputId": "7298e7f4-a85d-4add-b593-90746553663b"
      },
      "execution_count": 30,
      "outputs": [
        {
          "output_type": "execute_result",
          "data": {
            "text/plain": [
              "                          number_of_courses_viewed  annual_income  \\\n",
              "number_of_courses_viewed                  1.000000       0.009770   \n",
              "annual_income                             0.009770       1.000000   \n",
              "interaction_count                        -0.023565       0.027036   \n",
              "lead_score                               -0.004879       0.015610   \n",
              "converted                                 0.435914       0.053131   \n",
              "\n",
              "                          interaction_count  lead_score  converted  \n",
              "number_of_courses_viewed          -0.023565   -0.004879   0.435914  \n",
              "annual_income                      0.027036    0.015610   0.053131  \n",
              "interaction_count                  1.000000    0.009888   0.374573  \n",
              "lead_score                         0.009888    1.000000   0.193673  \n",
              "converted                          0.374573    0.193673   1.000000  "
            ],
            "text/html": [
              "\n",
              "  <div id=\"df-4cd0ccce-66f0-4eaf-99a9-543b305a2f86\" class=\"colab-df-container\">\n",
              "    <div>\n",
              "<style scoped>\n",
              "    .dataframe tbody tr th:only-of-type {\n",
              "        vertical-align: middle;\n",
              "    }\n",
              "\n",
              "    .dataframe tbody tr th {\n",
              "        vertical-align: top;\n",
              "    }\n",
              "\n",
              "    .dataframe thead th {\n",
              "        text-align: right;\n",
              "    }\n",
              "</style>\n",
              "<table border=\"1\" class=\"dataframe\">\n",
              "  <thead>\n",
              "    <tr style=\"text-align: right;\">\n",
              "      <th></th>\n",
              "      <th>number_of_courses_viewed</th>\n",
              "      <th>annual_income</th>\n",
              "      <th>interaction_count</th>\n",
              "      <th>lead_score</th>\n",
              "      <th>converted</th>\n",
              "    </tr>\n",
              "  </thead>\n",
              "  <tbody>\n",
              "    <tr>\n",
              "      <th>number_of_courses_viewed</th>\n",
              "      <td>1.000000</td>\n",
              "      <td>0.009770</td>\n",
              "      <td>-0.023565</td>\n",
              "      <td>-0.004879</td>\n",
              "      <td>0.435914</td>\n",
              "    </tr>\n",
              "    <tr>\n",
              "      <th>annual_income</th>\n",
              "      <td>0.009770</td>\n",
              "      <td>1.000000</td>\n",
              "      <td>0.027036</td>\n",
              "      <td>0.015610</td>\n",
              "      <td>0.053131</td>\n",
              "    </tr>\n",
              "    <tr>\n",
              "      <th>interaction_count</th>\n",
              "      <td>-0.023565</td>\n",
              "      <td>0.027036</td>\n",
              "      <td>1.000000</td>\n",
              "      <td>0.009888</td>\n",
              "      <td>0.374573</td>\n",
              "    </tr>\n",
              "    <tr>\n",
              "      <th>lead_score</th>\n",
              "      <td>-0.004879</td>\n",
              "      <td>0.015610</td>\n",
              "      <td>0.009888</td>\n",
              "      <td>1.000000</td>\n",
              "      <td>0.193673</td>\n",
              "    </tr>\n",
              "    <tr>\n",
              "      <th>converted</th>\n",
              "      <td>0.435914</td>\n",
              "      <td>0.053131</td>\n",
              "      <td>0.374573</td>\n",
              "      <td>0.193673</td>\n",
              "      <td>1.000000</td>\n",
              "    </tr>\n",
              "  </tbody>\n",
              "</table>\n",
              "</div>\n",
              "    <div class=\"colab-df-buttons\">\n",
              "\n",
              "  <div class=\"colab-df-container\">\n",
              "    <button class=\"colab-df-convert\" onclick=\"convertToInteractive('df-4cd0ccce-66f0-4eaf-99a9-543b305a2f86')\"\n",
              "            title=\"Convert this dataframe to an interactive table.\"\n",
              "            style=\"display:none;\">\n",
              "\n",
              "  <svg xmlns=\"http://www.w3.org/2000/svg\" height=\"24px\" viewBox=\"0 -960 960 960\">\n",
              "    <path d=\"M120-120v-720h720v720H120Zm60-500h600v-160H180v160Zm220 220h160v-160H400v160Zm0 220h160v-160H400v160ZM180-400h160v-160H180v160Zm440 0h160v-160H620v160ZM180-180h160v-160H180v160Zm440 0h160v-160H620v160Z\"/>\n",
              "  </svg>\n",
              "    </button>\n",
              "\n",
              "  <style>\n",
              "    .colab-df-container {\n",
              "      display:flex;\n",
              "      gap: 12px;\n",
              "    }\n",
              "\n",
              "    .colab-df-convert {\n",
              "      background-color: #E8F0FE;\n",
              "      border: none;\n",
              "      border-radius: 50%;\n",
              "      cursor: pointer;\n",
              "      display: none;\n",
              "      fill: #1967D2;\n",
              "      height: 32px;\n",
              "      padding: 0 0 0 0;\n",
              "      width: 32px;\n",
              "    }\n",
              "\n",
              "    .colab-df-convert:hover {\n",
              "      background-color: #E2EBFA;\n",
              "      box-shadow: 0px 1px 2px rgba(60, 64, 67, 0.3), 0px 1px 3px 1px rgba(60, 64, 67, 0.15);\n",
              "      fill: #174EA6;\n",
              "    }\n",
              "\n",
              "    .colab-df-buttons div {\n",
              "      margin-bottom: 4px;\n",
              "    }\n",
              "\n",
              "    [theme=dark] .colab-df-convert {\n",
              "      background-color: #3B4455;\n",
              "      fill: #D2E3FC;\n",
              "    }\n",
              "\n",
              "    [theme=dark] .colab-df-convert:hover {\n",
              "      background-color: #434B5C;\n",
              "      box-shadow: 0px 1px 3px 1px rgba(0, 0, 0, 0.15);\n",
              "      filter: drop-shadow(0px 1px 2px rgba(0, 0, 0, 0.3));\n",
              "      fill: #FFFFFF;\n",
              "    }\n",
              "  </style>\n",
              "\n",
              "    <script>\n",
              "      const buttonEl =\n",
              "        document.querySelector('#df-4cd0ccce-66f0-4eaf-99a9-543b305a2f86 button.colab-df-convert');\n",
              "      buttonEl.style.display =\n",
              "        google.colab.kernel.accessAllowed ? 'block' : 'none';\n",
              "\n",
              "      async function convertToInteractive(key) {\n",
              "        const element = document.querySelector('#df-4cd0ccce-66f0-4eaf-99a9-543b305a2f86');\n",
              "        const dataTable =\n",
              "          await google.colab.kernel.invokeFunction('convertToInteractive',\n",
              "                                                    [key], {});\n",
              "        if (!dataTable) return;\n",
              "\n",
              "        const docLinkHtml = 'Like what you see? Visit the ' +\n",
              "          '<a target=\"_blank\" href=https://colab.research.google.com/notebooks/data_table.ipynb>data table notebook</a>'\n",
              "          + ' to learn more about interactive tables.';\n",
              "        element.innerHTML = '';\n",
              "        dataTable['output_type'] = 'display_data';\n",
              "        await google.colab.output.renderOutput(dataTable, element);\n",
              "        const docLink = document.createElement('div');\n",
              "        docLink.innerHTML = docLinkHtml;\n",
              "        element.appendChild(docLink);\n",
              "      }\n",
              "    </script>\n",
              "  </div>\n",
              "\n",
              "\n",
              "    <div id=\"df-0ab76d73-b446-447c-b6a7-0bc217f3bc44\">\n",
              "      <button class=\"colab-df-quickchart\" onclick=\"quickchart('df-0ab76d73-b446-447c-b6a7-0bc217f3bc44')\"\n",
              "                title=\"Suggest charts\"\n",
              "                style=\"display:none;\">\n",
              "\n",
              "<svg xmlns=\"http://www.w3.org/2000/svg\" height=\"24px\"viewBox=\"0 0 24 24\"\n",
              "     width=\"24px\">\n",
              "    <g>\n",
              "        <path d=\"M19 3H5c-1.1 0-2 .9-2 2v14c0 1.1.9 2 2 2h14c1.1 0 2-.9 2-2V5c0-1.1-.9-2-2-2zM9 17H7v-7h2v7zm4 0h-2V7h2v10zm4 0h-2v-4h2v4z\"/>\n",
              "    </g>\n",
              "</svg>\n",
              "      </button>\n",
              "\n",
              "<style>\n",
              "  .colab-df-quickchart {\n",
              "      --bg-color: #E8F0FE;\n",
              "      --fill-color: #1967D2;\n",
              "      --hover-bg-color: #E2EBFA;\n",
              "      --hover-fill-color: #174EA6;\n",
              "      --disabled-fill-color: #AAA;\n",
              "      --disabled-bg-color: #DDD;\n",
              "  }\n",
              "\n",
              "  [theme=dark] .colab-df-quickchart {\n",
              "      --bg-color: #3B4455;\n",
              "      --fill-color: #D2E3FC;\n",
              "      --hover-bg-color: #434B5C;\n",
              "      --hover-fill-color: #FFFFFF;\n",
              "      --disabled-bg-color: #3B4455;\n",
              "      --disabled-fill-color: #666;\n",
              "  }\n",
              "\n",
              "  .colab-df-quickchart {\n",
              "    background-color: var(--bg-color);\n",
              "    border: none;\n",
              "    border-radius: 50%;\n",
              "    cursor: pointer;\n",
              "    display: none;\n",
              "    fill: var(--fill-color);\n",
              "    height: 32px;\n",
              "    padding: 0;\n",
              "    width: 32px;\n",
              "  }\n",
              "\n",
              "  .colab-df-quickchart:hover {\n",
              "    background-color: var(--hover-bg-color);\n",
              "    box-shadow: 0 1px 2px rgba(60, 64, 67, 0.3), 0 1px 3px 1px rgba(60, 64, 67, 0.15);\n",
              "    fill: var(--button-hover-fill-color);\n",
              "  }\n",
              "\n",
              "  .colab-df-quickchart-complete:disabled,\n",
              "  .colab-df-quickchart-complete:disabled:hover {\n",
              "    background-color: var(--disabled-bg-color);\n",
              "    fill: var(--disabled-fill-color);\n",
              "    box-shadow: none;\n",
              "  }\n",
              "\n",
              "  .colab-df-spinner {\n",
              "    border: 2px solid var(--fill-color);\n",
              "    border-color: transparent;\n",
              "    border-bottom-color: var(--fill-color);\n",
              "    animation:\n",
              "      spin 1s steps(1) infinite;\n",
              "  }\n",
              "\n",
              "  @keyframes spin {\n",
              "    0% {\n",
              "      border-color: transparent;\n",
              "      border-bottom-color: var(--fill-color);\n",
              "      border-left-color: var(--fill-color);\n",
              "    }\n",
              "    20% {\n",
              "      border-color: transparent;\n",
              "      border-left-color: var(--fill-color);\n",
              "      border-top-color: var(--fill-color);\n",
              "    }\n",
              "    30% {\n",
              "      border-color: transparent;\n",
              "      border-left-color: var(--fill-color);\n",
              "      border-top-color: var(--fill-color);\n",
              "      border-right-color: var(--fill-color);\n",
              "    }\n",
              "    40% {\n",
              "      border-color: transparent;\n",
              "      border-right-color: var(--fill-color);\n",
              "      border-top-color: var(--fill-color);\n",
              "    }\n",
              "    60% {\n",
              "      border-color: transparent;\n",
              "      border-right-color: var(--fill-color);\n",
              "    }\n",
              "    80% {\n",
              "      border-color: transparent;\n",
              "      border-right-color: var(--fill-color);\n",
              "      border-bottom-color: var(--fill-color);\n",
              "    }\n",
              "    90% {\n",
              "      border-color: transparent;\n",
              "      border-bottom-color: var(--fill-color);\n",
              "    }\n",
              "  }\n",
              "</style>\n",
              "\n",
              "      <script>\n",
              "        async function quickchart(key) {\n",
              "          const quickchartButtonEl =\n",
              "            document.querySelector('#' + key + ' button');\n",
              "          quickchartButtonEl.disabled = true;  // To prevent multiple clicks.\n",
              "          quickchartButtonEl.classList.add('colab-df-spinner');\n",
              "          try {\n",
              "            const charts = await google.colab.kernel.invokeFunction(\n",
              "                'suggestCharts', [key], {});\n",
              "          } catch (error) {\n",
              "            console.error('Error during call to suggestCharts:', error);\n",
              "          }\n",
              "          quickchartButtonEl.classList.remove('colab-df-spinner');\n",
              "          quickchartButtonEl.classList.add('colab-df-quickchart-complete');\n",
              "        }\n",
              "        (() => {\n",
              "          let quickchartButtonEl =\n",
              "            document.querySelector('#df-0ab76d73-b446-447c-b6a7-0bc217f3bc44 button');\n",
              "          quickchartButtonEl.style.display =\n",
              "            google.colab.kernel.accessAllowed ? 'block' : 'none';\n",
              "        })();\n",
              "      </script>\n",
              "    </div>\n",
              "\n",
              "    </div>\n",
              "  </div>\n"
            ],
            "application/vnd.google.colaboratory.intrinsic+json": {
              "type": "dataframe",
              "summary": "{\n  \"name\": \"df_num\",\n  \"rows\": 5,\n  \"fields\": [\n    {\n      \"column\": \"number_of_courses_viewed\",\n      \"properties\": {\n        \"dtype\": \"number\",\n        \"std\": 0.4441231850113635,\n        \"min\": -0.023565222882888037,\n        \"max\": 1.0,\n        \"num_unique_values\": 5,\n        \"samples\": [\n          0.009770285756444567,\n          0.43591365802117926,\n          -0.023565222882888037\n        ],\n        \"semantic_type\": \"\",\n        \"description\": \"\"\n      }\n    },\n    {\n      \"column\": \"annual_income\",\n      \"properties\": {\n        \"dtype\": \"number\",\n        \"std\": 0.4357309587498275,\n        \"min\": 0.009770285756444567,\n        \"max\": 1.0,\n        \"num_unique_values\": 5,\n        \"samples\": [\n          1.0,\n          0.05313144169625205,\n          0.02703647240481443\n        ],\n        \"semantic_type\": \"\",\n        \"description\": \"\"\n      }\n    },\n    {\n      \"column\": \"interaction_count\",\n      \"properties\": {\n        \"dtype\": \"number\",\n        \"std\": 0.43486136249040314,\n        \"min\": -0.023565222882888037,\n        \"max\": 1.0,\n        \"num_unique_values\": 5,\n        \"samples\": [\n          0.02703647240481443,\n          0.37457251779940415,\n          1.0\n        ],\n        \"semantic_type\": \"\",\n        \"description\": \"\"\n      }\n    },\n    {\n      \"column\": \"lead_score\",\n      \"properties\": {\n        \"dtype\": \"number\",\n        \"std\": 0.4309795643311996,\n        \"min\": -0.004878998354681276,\n        \"max\": 1.0,\n        \"num_unique_values\": 5,\n        \"samples\": [\n          0.015609546050139008,\n          0.19367349758690264,\n          0.009888182496913131\n        ],\n        \"semantic_type\": \"\",\n        \"description\": \"\"\n      }\n    },\n    {\n      \"column\": \"converted\",\n      \"properties\": {\n        \"dtype\": \"number\",\n        \"std\": 0.36199734655356947,\n        \"min\": 0.05313144169625205,\n        \"max\": 1.0,\n        \"num_unique_values\": 5,\n        \"samples\": [\n          0.05313144169625205,\n          1.0,\n          0.37457251779940415\n        ],\n        \"semantic_type\": \"\",\n        \"description\": \"\"\n      }\n    }\n  ]\n}"
            }
          },
          "metadata": {},
          "execution_count": 30
        }
      ]
    },
    {
      "cell_type": "code",
      "source": [
        "corr_mat=df_num.corr().unstack().sort_values(ascending=False)\n",
        "corr_notself=corr_mat[corr_mat<1]"
      ],
      "metadata": {
        "id": "hEAf2JRMHROg"
      },
      "execution_count": 40,
      "outputs": []
    },
    {
      "cell_type": "code",
      "source": [
        "corr_notself      #interaction_count and lead_score,number_of_courses_viewed and lead_score,number_of_courses_viewed and interaction_count,annual_income and interaction_count\n"
      ],
      "metadata": {
        "colab": {
          "base_uri": "https://localhost:8080/",
          "height": 711
        },
        "id": "U9368zrKI9pI",
        "outputId": "3ee6b18b-f843-4161-e336-a8c0924ee39d"
      },
      "execution_count": 42,
      "outputs": [
        {
          "output_type": "execute_result",
          "data": {
            "text/plain": [
              "converted                 number_of_courses_viewed    0.435914\n",
              "number_of_courses_viewed  converted                   0.435914\n",
              "interaction_count         converted                   0.374573\n",
              "converted                 interaction_count           0.374573\n",
              "lead_score                converted                   0.193673\n",
              "converted                 lead_score                  0.193673\n",
              "                          annual_income               0.053131\n",
              "annual_income             converted                   0.053131\n",
              "interaction_count         annual_income               0.027036\n",
              "annual_income             interaction_count           0.027036\n",
              "                          lead_score                  0.015610\n",
              "lead_score                annual_income               0.015610\n",
              "interaction_count         lead_score                  0.009888\n",
              "lead_score                interaction_count           0.009888\n",
              "annual_income             number_of_courses_viewed    0.009770\n",
              "number_of_courses_viewed  annual_income               0.009770\n",
              "lead_score                number_of_courses_viewed   -0.004879\n",
              "number_of_courses_viewed  lead_score                 -0.004879\n",
              "                          interaction_count          -0.023565\n",
              "interaction_count         number_of_courses_viewed   -0.023565\n",
              "dtype: float64"
            ],
            "text/html": [
              "<div>\n",
              "<style scoped>\n",
              "    .dataframe tbody tr th:only-of-type {\n",
              "        vertical-align: middle;\n",
              "    }\n",
              "\n",
              "    .dataframe tbody tr th {\n",
              "        vertical-align: top;\n",
              "    }\n",
              "\n",
              "    .dataframe thead th {\n",
              "        text-align: right;\n",
              "    }\n",
              "</style>\n",
              "<table border=\"1\" class=\"dataframe\">\n",
              "  <thead>\n",
              "    <tr style=\"text-align: right;\">\n",
              "      <th></th>\n",
              "      <th></th>\n",
              "      <th>0</th>\n",
              "    </tr>\n",
              "  </thead>\n",
              "  <tbody>\n",
              "    <tr>\n",
              "      <th>converted</th>\n",
              "      <th>number_of_courses_viewed</th>\n",
              "      <td>0.435914</td>\n",
              "    </tr>\n",
              "    <tr>\n",
              "      <th>number_of_courses_viewed</th>\n",
              "      <th>converted</th>\n",
              "      <td>0.435914</td>\n",
              "    </tr>\n",
              "    <tr>\n",
              "      <th>interaction_count</th>\n",
              "      <th>converted</th>\n",
              "      <td>0.374573</td>\n",
              "    </tr>\n",
              "    <tr>\n",
              "      <th>converted</th>\n",
              "      <th>interaction_count</th>\n",
              "      <td>0.374573</td>\n",
              "    </tr>\n",
              "    <tr>\n",
              "      <th>lead_score</th>\n",
              "      <th>converted</th>\n",
              "      <td>0.193673</td>\n",
              "    </tr>\n",
              "    <tr>\n",
              "      <th rowspan=\"2\" valign=\"top\">converted</th>\n",
              "      <th>lead_score</th>\n",
              "      <td>0.193673</td>\n",
              "    </tr>\n",
              "    <tr>\n",
              "      <th>annual_income</th>\n",
              "      <td>0.053131</td>\n",
              "    </tr>\n",
              "    <tr>\n",
              "      <th>annual_income</th>\n",
              "      <th>converted</th>\n",
              "      <td>0.053131</td>\n",
              "    </tr>\n",
              "    <tr>\n",
              "      <th>interaction_count</th>\n",
              "      <th>annual_income</th>\n",
              "      <td>0.027036</td>\n",
              "    </tr>\n",
              "    <tr>\n",
              "      <th rowspan=\"2\" valign=\"top\">annual_income</th>\n",
              "      <th>interaction_count</th>\n",
              "      <td>0.027036</td>\n",
              "    </tr>\n",
              "    <tr>\n",
              "      <th>lead_score</th>\n",
              "      <td>0.015610</td>\n",
              "    </tr>\n",
              "    <tr>\n",
              "      <th>lead_score</th>\n",
              "      <th>annual_income</th>\n",
              "      <td>0.015610</td>\n",
              "    </tr>\n",
              "    <tr>\n",
              "      <th>interaction_count</th>\n",
              "      <th>lead_score</th>\n",
              "      <td>0.009888</td>\n",
              "    </tr>\n",
              "    <tr>\n",
              "      <th>lead_score</th>\n",
              "      <th>interaction_count</th>\n",
              "      <td>0.009888</td>\n",
              "    </tr>\n",
              "    <tr>\n",
              "      <th>annual_income</th>\n",
              "      <th>number_of_courses_viewed</th>\n",
              "      <td>0.009770</td>\n",
              "    </tr>\n",
              "    <tr>\n",
              "      <th>number_of_courses_viewed</th>\n",
              "      <th>annual_income</th>\n",
              "      <td>0.009770</td>\n",
              "    </tr>\n",
              "    <tr>\n",
              "      <th>lead_score</th>\n",
              "      <th>number_of_courses_viewed</th>\n",
              "      <td>-0.004879</td>\n",
              "    </tr>\n",
              "    <tr>\n",
              "      <th rowspan=\"2\" valign=\"top\">number_of_courses_viewed</th>\n",
              "      <th>lead_score</th>\n",
              "      <td>-0.004879</td>\n",
              "    </tr>\n",
              "    <tr>\n",
              "      <th>interaction_count</th>\n",
              "      <td>-0.023565</td>\n",
              "    </tr>\n",
              "    <tr>\n",
              "      <th>interaction_count</th>\n",
              "      <th>number_of_courses_viewed</th>\n",
              "      <td>-0.023565</td>\n",
              "    </tr>\n",
              "  </tbody>\n",
              "</table>\n",
              "</div><br><label><b>dtype:</b> float64</label>"
            ]
          },
          "metadata": {},
          "execution_count": 42
        }
      ]
    },
    {
      "cell_type": "markdown",
      "source": [
        "On comparing the given pairs, annual income and interaction count has highest correlation"
      ],
      "metadata": {
        "id": "MpRPkrq-Jv43"
      }
    },
    {
      "cell_type": "markdown",
      "source": [
        "Q3"
      ],
      "metadata": {
        "id": "wlaJOHaiJ1_w"
      }
    },
    {
      "cell_type": "code",
      "source": [
        "from sklearn.model_selection import train_test_split\n",
        "X=df.drop(columns=['converted'])\n",
        "y=df['converted']\n",
        "X_train,X_temp,y_train,y_temp=train_test_split(X,y,test_size=0.4,random_state=42)      #60 40 split\n",
        "X_val,X_test,y_val,y_test=train_test_split(X_temp,y_temp,test_size=0.5,random_state=42) # 40 split into 20 20 each"
      ],
      "metadata": {
        "id": "kI7p6GPyJvSB"
      },
      "execution_count": 64,
      "outputs": []
    },
    {
      "cell_type": "code",
      "source": [
        "X_train_cat=X_train[X_train.select_dtypes(include='object').columns]\n",
        "X_train_num=X_train[X_train.select_dtypes(exclude='object').columns]"
      ],
      "metadata": {
        "id": "bSVKKZbfO6bx"
      },
      "execution_count": 65,
      "outputs": []
    },
    {
      "cell_type": "code",
      "source": [
        "from sklearn.metrics import mutual_info_score\n",
        "def calc_mi(series):\n",
        "  return round(mutual_info_score(series,y_train),2)\n",
        "\n",
        "mi_scores = X_train_cat.apply(calc_mi).sort_values(ascending=False)\n",
        "display(mi_scores)"
      ],
      "metadata": {
        "colab": {
          "base_uri": "https://localhost:8080/",
          "height": 373
        },
        "id": "KHUtrnKzN4ZA",
        "outputId": "b0786d2d-6341-4895-859f-4a80aa7b0192"
      },
      "execution_count": 66,
      "outputs": [
        {
          "output_type": "display_data",
          "data": {
            "text/plain": [
              "lead_source          0.03\n",
              "industry             0.02\n",
              "employment_status    0.02\n",
              "location             0.00\n",
              "dtype: float64"
            ],
            "text/html": [
              "<div>\n",
              "<style scoped>\n",
              "    .dataframe tbody tr th:only-of-type {\n",
              "        vertical-align: middle;\n",
              "    }\n",
              "\n",
              "    .dataframe tbody tr th {\n",
              "        vertical-align: top;\n",
              "    }\n",
              "\n",
              "    .dataframe thead th {\n",
              "        text-align: right;\n",
              "    }\n",
              "</style>\n",
              "<table border=\"1\" class=\"dataframe\">\n",
              "  <thead>\n",
              "    <tr style=\"text-align: right;\">\n",
              "      <th></th>\n",
              "      <th>0</th>\n",
              "    </tr>\n",
              "  </thead>\n",
              "  <tbody>\n",
              "    <tr>\n",
              "      <th>lead_source</th>\n",
              "      <td>0.03</td>\n",
              "    </tr>\n",
              "    <tr>\n",
              "      <th>industry</th>\n",
              "      <td>0.02</td>\n",
              "    </tr>\n",
              "    <tr>\n",
              "      <th>employment_status</th>\n",
              "      <td>0.02</td>\n",
              "    </tr>\n",
              "    <tr>\n",
              "      <th>location</th>\n",
              "      <td>0.00</td>\n",
              "    </tr>\n",
              "  </tbody>\n",
              "</table>\n",
              "</div><br><label><b>dtype:</b> float64</label>"
            ]
          },
          "metadata": {}
        },
        {
          "output_type": "error",
          "ename": "AttributeError",
          "evalue": "'NoneType' object has no attribute 'idxmax'",
          "traceback": [
            "\u001b[0;31m---------------------------------------------------------------------------\u001b[0m",
            "\u001b[0;31mAttributeError\u001b[0m                            Traceback (most recent call last)",
            "\u001b[0;32m/tmp/ipython-input-112646070.py\u001b[0m in \u001b[0;36m<cell line: 0>\u001b[0;34m()\u001b[0m\n\u001b[1;32m      4\u001b[0m \u001b[0;34m\u001b[0m\u001b[0m\n\u001b[1;32m      5\u001b[0m \u001b[0mmi_scores\u001b[0m \u001b[0;34m=\u001b[0m \u001b[0mX_train_cat\u001b[0m\u001b[0;34m.\u001b[0m\u001b[0mapply\u001b[0m\u001b[0;34m(\u001b[0m\u001b[0mcalc_mi\u001b[0m\u001b[0;34m)\u001b[0m\u001b[0;34m.\u001b[0m\u001b[0msort_values\u001b[0m\u001b[0;34m(\u001b[0m\u001b[0mascending\u001b[0m\u001b[0;34m=\u001b[0m\u001b[0;32mFalse\u001b[0m\u001b[0;34m)\u001b[0m\u001b[0;34m\u001b[0m\u001b[0;34m\u001b[0m\u001b[0m\n\u001b[0;32m----> 6\u001b[0;31m \u001b[0mdisplay\u001b[0m\u001b[0;34m(\u001b[0m\u001b[0mmi_scores\u001b[0m\u001b[0;34m)\u001b[0m\u001b[0;34m.\u001b[0m\u001b[0midxmax\u001b[0m\u001b[0;34m(\u001b[0m\u001b[0;34m)\u001b[0m\u001b[0;34m\u001b[0m\u001b[0;34m\u001b[0m\u001b[0m\n\u001b[0m",
            "\u001b[0;31mAttributeError\u001b[0m: 'NoneType' object has no attribute 'idxmax'"
          ]
        }
      ]
    },
    {
      "cell_type": "code",
      "source": [
        "mi_scores.idxmax() #max mutual info with converted column"
      ],
      "metadata": {
        "colab": {
          "base_uri": "https://localhost:8080/",
          "height": 35
        },
        "id": "5Sl8Qzy_P1Ex",
        "outputId": "66355fd9-e96d-4956-9f97-fc489c8eb5d0"
      },
      "execution_count": 67,
      "outputs": [
        {
          "output_type": "execute_result",
          "data": {
            "text/plain": [
              "'lead_source'"
            ],
            "application/vnd.google.colaboratory.intrinsic+json": {
              "type": "string"
            }
          },
          "metadata": {},
          "execution_count": 67
        }
      ]
    },
    {
      "cell_type": "markdown",
      "source": [
        "Q4"
      ],
      "metadata": {
        "id": "1cHRc6ukJLl4"
      }
    },
    {
      "cell_type": "markdown",
      "source": [
        "Instead of doing it the way in the tutorial. We'll implement OneHot Encoding using sklearn"
      ],
      "metadata": {
        "id": "aJSd8PQReXVf"
      }
    },
    {
      "cell_type": "code",
      "source": [
        "from sklearn.linear_model import LogisticRegression\n",
        "from sklearn.preprocessing import OneHotEncoder\n",
        "from sklearn.compose import ColumnTransformer\n",
        "from sklearn.pipeline import Pipeline\n",
        "from sklearn.metrics import accuracy_score\n",
        "\n"
      ],
      "metadata": {
        "id": "iQxyRHudfBof"
      },
      "execution_count": 69,
      "outputs": []
    },
    {
      "cell_type": "code",
      "source": [
        "cat_cols=X_train.select_dtypes(include='object').columns\n",
        "num_cols=X_train.select_dtypes(exclude='object').columns"
      ],
      "metadata": {
        "id": "WpKA8sy-ee4f"
      },
      "execution_count": 68,
      "outputs": []
    },
    {
      "cell_type": "code",
      "source": [
        "preprocessor = ColumnTransformer(\n",
        "    transformers=[\n",
        "        ('num', 'passthrough', num_cols),\n",
        "        ('cat', OneHotEncoder(handle_unknown='ignore'), cat_cols)\n",
        "    ]) #preprocessed data\n"
      ],
      "metadata": {
        "id": "17qUKHf8flbH"
      },
      "execution_count": 70,
      "outputs": []
    },
    {
      "cell_type": "code",
      "source": [
        "model = LogisticRegression(solver='liblinear', C=1.0, max_iter=1000, random_state=42)"
      ],
      "metadata": {
        "id": "JagxbeQ9e-m_"
      },
      "execution_count": 71,
      "outputs": []
    },
    {
      "cell_type": "code",
      "source": [
        "clf = Pipeline(steps=[\n",
        "    ('preprocessor', preprocessor),\n",
        "    ('model', model)\n",
        "])\n",
        "clf.fit(X_train,y_train)\n",
        "y_val_pred = clf.predict(X_val)\n",
        "val_acc=accuracy_score(y_val,y_val_pred)\n",
        "round(val_acc,2)\n"
      ],
      "metadata": {
        "colab": {
          "base_uri": "https://localhost:8080/"
        },
        "id": "1OtzdqJahySP",
        "outputId": "70240998-eaee-4029-c53a-701b4b19a515"
      },
      "execution_count": 74,
      "outputs": [
        {
          "output_type": "execute_result",
          "data": {
            "text/plain": [
              "0.74"
            ]
          },
          "metadata": {},
          "execution_count": 74
        }
      ]
    },
    {
      "cell_type": "markdown",
      "source": [
        "Q5"
      ],
      "metadata": {
        "id": "CDP6bSldyHEM"
      }
    },
    {
      "cell_type": "code",
      "source": [
        "from sklearn.linear_model import LogisticRegression\n",
        "from sklearn.preprocessing import OneHotEncoder\n",
        "from sklearn.compose import ColumnTransformer\n",
        "from sklearn.pipeline import Pipeline\n",
        "from sklearn.metrics import accuracy_score\n",
        "\n",
        "def accuracy_change():\n",
        "    diff = []  # local variable\n",
        "\n",
        "    # Identify categorical and numerical columns\n",
        "    cat_cols_base = X_train.select_dtypes(include='object').columns\n",
        "    num_cols_base = X_train.select_dtypes(exclude='object').columns\n",
        "\n",
        "    # Base preprocessor\n",
        "    preprocessor_base = ColumnTransformer(\n",
        "        transformers=[\n",
        "            ('num', 'passthrough', num_cols_base),\n",
        "            ('cat', OneHotEncoder(handle_unknown='ignore'), cat_cols_base)\n",
        "        ]\n",
        "    )\n",
        "\n",
        "    # Base model and pipeline\n",
        "    clf_base = Pipeline(steps=[\n",
        "        ('preprocessor', preprocessor_base),\n",
        "        ('model', LogisticRegression(solver='liblinear', C=1.0, max_iter=1000, random_state=42))\n",
        "    ])\n",
        "\n",
        "    # Baseline accuracy\n",
        "    clf_base.fit(X_train, y_train)\n",
        "    y_val_pred_base = clf_base.predict(X_val)\n",
        "    val_acc_base = accuracy_score(y_val, y_val_pred_base)\n",
        "\n",
        "    # Drop one feature at a time\n",
        "    for col in X_train.columns:\n",
        "        new_X_train = X_train.drop(columns=[col])\n",
        "        new_X_val = X_val.drop(columns=[col], errors='ignore')\n",
        "\n",
        "        # Redefine preprocessor with the new set of columns\n",
        "        cat_cols_new = new_X_train.select_dtypes(include='object').columns\n",
        "        num_cols_new = new_X_train.select_dtypes(exclude='object').columns\n",
        "\n",
        "        preprocessor_new = ColumnTransformer(\n",
        "            transformers=[\n",
        "                ('num', 'passthrough', num_cols_new),\n",
        "                ('cat', OneHotEncoder(handle_unknown='ignore'), cat_cols_new)\n",
        "            ]\n",
        "        )\n",
        "\n",
        "        # Create a new pipeline for each feature drop\n",
        "        clf_new = Pipeline(steps=[\n",
        "            ('preprocessor', preprocessor_new),\n",
        "            ('model', LogisticRegression(solver='liblinear', C=1.0, max_iter=1000, random_state=42))\n",
        "        ])\n",
        "\n",
        "        # Train and evaluate\n",
        "        clf_new.fit(new_X_train, y_train)\n",
        "        y_val_pred_1feat = clf_new.predict(new_X_val)\n",
        "        val_acc_1feat = accuracy_score(y_val, y_val_pred_1feat)\n",
        "\n",
        "        # Record accuracy drop\n",
        "        diff.append((col, val_acc_base - val_acc_1feat))\n",
        "\n",
        "    return diff\n"
      ],
      "metadata": {
        "id": "4L8LiTOrtEbZ"
      },
      "execution_count": 92,
      "outputs": []
    },
    {
      "cell_type": "code",
      "source": [
        "feature_drops = accuracy_change()\n",
        "feature_drops.sort(key=lambda x: x[1], reverse=True)\n",
        "feature_drops[:10]"
      ],
      "metadata": {
        "colab": {
          "base_uri": "https://localhost:8080/"
        },
        "id": "JhvSJQTBrRVR",
        "outputId": "660cf7af-2736-49be-a135-2ba738b5b054"
      },
      "execution_count": 93,
      "outputs": [
        {
          "output_type": "execute_result",
          "data": {
            "text/plain": [
              "[('interaction_count', 0.06849315068493145),\n",
              " ('number_of_courses_viewed', 0.06506849315068486),\n",
              " ('lead_source', 0.013698630136986245),\n",
              " ('industry', 0.0),\n",
              " ('location', 0.0),\n",
              " ('lead_score', 0.0),\n",
              " ('employment_status', -0.003424657534246589),\n",
              " ('annual_income', -0.113013698630137)]"
            ]
          },
          "metadata": {},
          "execution_count": 93
        }
      ]
    },
    {
      "cell_type": "markdown",
      "source": [
        "Industry seems to have no difference. So, this is the answer!"
      ],
      "metadata": {
        "id": "yFLJGMkItvKR"
      }
    },
    {
      "cell_type": "markdown",
      "source": [
        "Q6"
      ],
      "metadata": {
        "id": "EcGqKjPqt4ZB"
      }
    },
    {
      "cell_type": "code",
      "source": [
        "\n",
        "def reg_lr():\n",
        "    diff = []\n",
        "\n",
        "    cat_cols = X_train.select_dtypes(include='object').columns\n",
        "    num_cols = X_train.select_dtypes(exclude='object').columns\n",
        "\n",
        "    preprocessor = ColumnTransformer(\n",
        "        transformers=[\n",
        "            ('num', 'passthrough', num_cols),\n",
        "            ('cat', OneHotEncoder(handle_unknown='ignore'), cat_cols)\n",
        "        ]\n",
        "    )\n",
        "\n",
        "    # Baseline model (C=1.0)\n",
        "    base_clf = Pipeline(steps=[\n",
        "        ('preprocessor', preprocessor),\n",
        "        ('model', LogisticRegression(solver='liblinear', C=1.0, max_iter=1000, random_state=42))\n",
        "    ])\n",
        "    base_clf.fit(X_train, y_train)\n",
        "    y_val_pred_base = base_clf.predict(X_val)\n",
        "    val_acc = accuracy_score(y_val, y_val_pred_base)\n",
        "\n",
        "\n",
        "    for i in [0.01, 0.1, 1, 10, 100]:\n",
        "        clf = Pipeline(steps=[\n",
        "            ('preprocessor', preprocessor),\n",
        "            ('model', LogisticRegression(solver='liblinear', C=i, max_iter=1000, random_state=42))\n",
        "        ])\n",
        "        clf.fit(X_train, y_train)\n",
        "        y_val_pred = clf.predict(X_val)\n",
        "        val_acc_reg = accuracy_score(y_val, y_val_pred)\n",
        "\n",
        "        #change = val_acc - val_acc_reg\n",
        "        diff.append((i, val_acc_reg))\n",
        "\n",
        "    return max(diff,key=lambda item:item[1])\n",
        "\n"
      ],
      "metadata": {
        "id": "MzUiyGgEt34R"
      },
      "execution_count": 102,
      "outputs": []
    },
    {
      "cell_type": "code",
      "source": [
        "reg_lr()"
      ],
      "metadata": {
        "colab": {
          "base_uri": "https://localhost:8080/"
        },
        "id": "Ny38eneYxFSh",
        "outputId": "e6472e20-0592-450d-927b-b2dc4545ad6a"
      },
      "execution_count": 103,
      "outputs": [
        {
          "output_type": "execute_result",
          "data": {
            "text/plain": [
              "(0.01, 0.7431506849315068)"
            ]
          },
          "metadata": {},
          "execution_count": 103
        }
      ]
    },
    {
      "cell_type": "code",
      "source": [],
      "metadata": {
        "id": "Q7T2GsWXxyvK"
      },
      "execution_count": null,
      "outputs": []
    }
  ]
}